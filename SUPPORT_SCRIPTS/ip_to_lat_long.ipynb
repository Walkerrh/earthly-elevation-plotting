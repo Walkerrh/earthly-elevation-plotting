{
 "cells": [
  {
   "cell_type": "code",
   "execution_count": null,
   "metadata": {},
   "outputs": [],
   "source": []
  },
  {
   "cell_type": "code",
   "execution_count": 9,
   "metadata": {},
   "outputs": [
    {
     "name": "stdout",
     "output_type": "stream",
     "text": [
      "Latitude: 37.4056, Longitude: -122.0775\n"
     ]
    }
   ],
   "source": [
    "import requests\n",
    "\n",
    "def ip_to_latlong(ip_address):\n",
    "    # Query the ipinfo.io API for geolocation data of the IP\n",
    "    response = requests.get(f\"https://ipinfo.io/{ip_address}/json\")\n",
    "    \n",
    "    if response.status_code == 200:\n",
    "        data = response.json()\n",
    "        if 'loc' in data:\n",
    "            # Split the 'loc' string into latitude and longitude\n",
    "            latitude, longitude = data['loc'].split(',')\n",
    "            return float(latitude), float(longitude)\n",
    "        else:\n",
    "            print(\"Could not retrieve location for this IP.\")\n",
    "            return None\n",
    "    else:\n",
    "        print(f\"Error {response.status_code}: {response.text}\")\n",
    "        return None\n",
    "\n",
    "# Test\n",
    "ip_address = \"8.8.8.8\"  # You can change this to any IP address\n",
    "latlong = ip_to_latlong(ip_address)\n",
    "if latlong:\n",
    "    print(f\"Latitude: {latlong[0]}, Longitude: {latlong[1]}\")"
   ]
  }
 ],
 "metadata": {
  "kernelspec": {
   "display_name": "Python 3",
   "language": "python",
   "name": "python3"
  },
  "language_info": {
   "codemirror_mode": {
    "name": "ipython",
    "version": 3
   },
   "file_extension": ".py",
   "mimetype": "text/x-python",
   "name": "python",
   "nbconvert_exporter": "python",
   "pygments_lexer": "ipython3",
   "version": "3.10.4"
  }
 },
 "nbformat": 4,
 "nbformat_minor": 2
}
