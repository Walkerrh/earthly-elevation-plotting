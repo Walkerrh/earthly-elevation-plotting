{
 "cells": [
  {
   "cell_type": "code",
   "execution_count": null,
   "metadata": {},
   "outputs": [],
   "source": []
  },
  {
   "cell_type": "code",
   "execution_count": 2,
   "metadata": {},
   "outputs": [
    {
     "name": "stdout",
     "output_type": "stream",
     "text": [
      "191.140.96.158\n",
      "254.154.143.136\n",
      "252.106.104.95\n",
      "76.198.158.230\n",
      "86.72.242.160\n"
     ]
    }
   ],
   "source": [
    "import random\n",
    "\n",
    "def generate_random_ip():\n",
    "    return \".\".join(str(random.randint(0, 255)) for _ in range(4))\n",
    "\n",
    "# Test\n",
    "for _ in range(5):  # Generates 5 random IP addresses as an example\n",
    "    print(generate_random_ip())"
   ]
  }
 ],
 "metadata": {
  "kernelspec": {
   "display_name": "Python 3",
   "language": "python",
   "name": "python3"
  },
  "language_info": {
   "codemirror_mode": {
    "name": "ipython",
    "version": 3
   },
   "file_extension": ".py",
   "mimetype": "text/x-python",
   "name": "python",
   "nbconvert_exporter": "python",
   "pygments_lexer": "ipython3",
   "version": "3.10.4"
  }
 },
 "nbformat": 4,
 "nbformat_minor": 2
}
