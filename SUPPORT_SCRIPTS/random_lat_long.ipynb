{
 "cells": [
  {
   "cell_type": "code",
   "execution_count": null,
   "metadata": {},
   "outputs": [],
   "source": []
  },
  {
   "cell_type": "code",
   "execution_count": 1,
   "metadata": {},
   "outputs": [
    {
     "name": "stdout",
     "output_type": "stream",
     "text": [
      "(66.37236484253518, -88.17254130375831)\n",
      "(-18.519368769840383, 46.71003365722714)\n",
      "(43.80593531331459, -75.03708160520105)\n",
      "(72.28067384489043, -121.61809423097253)\n",
      "(32.58828444572572, 55.902848865070155)\n"
     ]
    }
   ],
   "source": [
    "import requests\n",
    "import random\n",
    "\n",
    "def random_latlong_on_land():\n",
    "    while True:\n",
    "        lat = random.uniform(-90, 90)\n",
    "        lon = random.uniform(-180, 180)\n",
    "\n",
    "        # Use the Nominatim API (from OpenStreetMap) to reverse geocode the location\n",
    "        response = requests.get(f\"https://nominatim.openstreetmap.org/reverse?lat={lat}&lon={lon}&format=json\")\n",
    "        \n",
    "        if response.status_code == 200:\n",
    "            data = response.json()\n",
    "            # Check if there's an 'error' field in the response. If there's none, then it's likely a valid land coordinate\n",
    "            if 'error' not in data:\n",
    "                return lat, lon\n",
    "        else:\n",
    "            print(f\"Error {response.status_code}: {response.text}\")\n",
    "\n",
    "# Test\n",
    "for _ in range(5):  # Generates 5 random coordinates on land as an example\n",
    "    print(random_latlong_on_land())"
   ]
  }
 ],
 "metadata": {
  "kernelspec": {
   "display_name": "Python 3",
   "language": "python",
   "name": "python3"
  },
  "language_info": {
   "codemirror_mode": {
    "name": "ipython",
    "version": 3
   },
   "file_extension": ".py",
   "mimetype": "text/x-python",
   "name": "python",
   "nbconvert_exporter": "python",
   "pygments_lexer": "ipython3",
   "version": "3.10.4"
  }
 },
 "nbformat": 4,
 "nbformat_minor": 2
}
